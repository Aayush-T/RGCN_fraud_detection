{
 "cells": [
  {
   "cell_type": "markdown",
   "id": "7f377ea7",
   "metadata": {
    "papermill": {
     "duration": 0.014313,
     "end_time": "2024-09-10T12:07:37.838156",
     "exception": false,
     "start_time": "2024-09-10T12:07:37.823843",
     "status": "completed"
    },
    "tags": []
   },
   "source": [
    "# Card transaction fraud with GNNs\n",
    "\n",
    "In this notebook we create a graph neural network (GNN) to detect fraudulent transaction in the IEEE fraud detection dataset. There are two principal aims:\n",
    "\n",
    "* Convert the tabular data into a graph dataset.\n",
    "* Build and train a GNN to determine whether transactions are fraudlulent or not.\n",
    "\n",
    "The aim is just to do this, we are not concerned about performance at this point.\n",
    "\n",
    "## Reference:\n",
    "\n",
    "Besides the DGL documentation, we were guided by <a href='https://github.com/awslabs/realtime-fraud-detection-with-gnn-on-dgl'>AWS real-time fraud detection with GNN on DGL</a>.\n",
    "\n",
    "## Graph structure\n",
    "\n",
    "We will have two families of node types:\n",
    "\n",
    "* Transaction nodes: this is one node type. There will be one of these nodes for each transaction. The transaction details will be assigned to the node's features.\n",
    "\n",
    "* ID nodes: we will use the features that describe the identity of the card user to create more nodes. Each such feature will determine a node type, and each unique value for that feature will create a new node.\n",
    "\n",
    "Two nodes will be connected whenever we have a transaction using a particular ID property."
   ]
  },
  {
   "cell_type": "markdown",
   "id": "cc8bc4e3",
   "metadata": {
    "papermill": {
     "duration": 0.012895,
     "end_time": "2024-09-10T12:07:37.864276",
     "exception": false,
     "start_time": "2024-09-10T12:07:37.851381",
     "status": "completed"
    },
    "tags": []
   },
   "source": [
    "## imports\n",
    "\n",
    "Note we import dgl with a pytorch backend."
   ]
  },
  {
   "cell_type": "code",
   "execution_count": 1,
   "id": "65450509",
   "metadata": {
    "_cell_guid": "b1076dfc-b9ad-4769-8c92-a6c4dae69d19",
    "_kg_hide-output": true,
    "_uuid": "8f2839f25d086af736a60e9eeb907d3b93b6e0e5",
    "execution": {
     "iopub.execute_input": "2024-09-10T12:07:37.892790Z",
     "iopub.status.busy": "2024-09-10T12:07:37.892321Z",
     "iopub.status.idle": "2024-09-10T12:07:59.731188Z",
     "shell.execute_reply": "2024-09-10T12:07:59.729607Z"
    },
    "papermill": {
     "duration": 21.856867,
     "end_time": "2024-09-10T12:07:59.734402",
     "exception": false,
     "start_time": "2024-09-10T12:07:37.877535",
     "status": "completed"
    },
    "tags": []
   },
   "outputs": [
    {
     "name": "stdout",
     "output_type": "stream",
     "text": [
      "Collecting dgl\r\n",
      "  Downloading dgl-1.1.3-cp37-cp37m-manylinux1_x86_64.whl (6.5 MB)\r\n",
      "\u001b[2K     \u001b[90m━━━━━━━━━━━━━━━━━━━━━━━━━━━━━━━━━━━━━━━━\u001b[0m \u001b[32m6.5/6.5 MB\u001b[0m \u001b[31m20.6 MB/s\u001b[0m eta \u001b[36m0:00:00\u001b[0m\r\n",
      "\u001b[?25hRequirement already satisfied: requests>=2.19.0 in /opt/conda/lib/python3.7/site-packages (from dgl) (2.28.2)\r\n",
      "Requirement already satisfied: tqdm in /opt/conda/lib/python3.7/site-packages (from dgl) (4.64.1)\r\n",
      "Requirement already satisfied: networkx>=2.1 in /opt/conda/lib/python3.7/site-packages (from dgl) (2.6.3)\r\n",
      "Requirement already satisfied: psutil>=5.8.0 in /opt/conda/lib/python3.7/site-packages (from dgl) (5.9.3)\r\n",
      "Requirement already satisfied: scipy>=1.1.0 in /opt/conda/lib/python3.7/site-packages (from dgl) (1.7.3)\r\n",
      "Requirement already satisfied: numpy>=1.14.0 in /opt/conda/lib/python3.7/site-packages (from dgl) (1.21.6)\r\n",
      "Requirement already satisfied: idna<4,>=2.5 in /opt/conda/lib/python3.7/site-packages (from requests>=2.19.0->dgl) (3.4)\r\n",
      "Requirement already satisfied: charset-normalizer<4,>=2 in /opt/conda/lib/python3.7/site-packages (from requests>=2.19.0->dgl) (2.1.1)\r\n",
      "Requirement already satisfied: certifi>=2017.4.17 in /opt/conda/lib/python3.7/site-packages (from requests>=2.19.0->dgl) (2022.12.7)\r\n",
      "Requirement already satisfied: urllib3<1.27,>=1.21.1 in /opt/conda/lib/python3.7/site-packages (from requests>=2.19.0->dgl) (1.26.14)\r\n",
      "Installing collected packages: dgl\r\n",
      "Successfully installed dgl-1.1.3\r\n",
      "\u001b[33mWARNING: Running pip as the 'root' user can result in broken permissions and conflicting behaviour with the system package manager. It is recommended to use a virtual environment instead: https://pip.pypa.io/warnings/venv\u001b[0m\u001b[33m\r\n",
      "\u001b[0m"
     ]
    }
   ],
   "source": [
    "import numpy as np\n",
    "import pandas as pd\n",
    "from time import time\n",
    "\n",
    "# import pytorch and set dgl backend to pytorch\n",
    "import os\n",
    "os.environ['DGLBACKEND'] = 'pytorch'\n",
    "import torch\n",
    "import torch.nn  as nn\n",
    "import torch.nn.functional as F\n",
    "\n",
    "try:\n",
    "    import dgl\n",
    "except ModuleNotFoundError:\n",
    "    !pip install dgl\n",
    "    import dgl\n",
    "\n",
    "import networkx as nx\n",
    "import matplotlib.pyplot as plt\n",
    "\n",
    "from sklearn.metrics import confusion_matrix"
   ]
  },
  {
   "cell_type": "markdown",
   "id": "44eb9b36",
   "metadata": {
    "papermill": {
     "duration": 0.013866,
     "end_time": "2024-09-10T12:07:59.762807",
     "exception": false,
     "start_time": "2024-09-10T12:07:59.748941",
     "status": "completed"
    },
    "tags": []
   },
   "source": [
    "## Preparing the data\n",
    "\n",
    "The data comes in two csv files, one containing transaction information, and a second that contains identidfcation information for some transactions. We see that there are more than 500k transactions, of which around 3.5 % are marked as fraudulent. The identity dataset contains further information for about a quarter of the transactions."
   ]
  },
  {
   "cell_type": "code",
   "execution_count": 2,
   "id": "0c699118",
   "metadata": {
    "execution": {
     "iopub.execute_input": "2024-09-10T12:07:59.795274Z",
     "iopub.status.busy": "2024-09-10T12:07:59.793645Z",
     "iopub.status.idle": "2024-09-10T12:08:37.430530Z",
     "shell.execute_reply": "2024-09-10T12:08:37.428988Z"
    },
    "papermill": {
     "duration": 37.656545,
     "end_time": "2024-09-10T12:08:37.433889",
     "exception": false,
     "start_time": "2024-09-10T12:07:59.777344",
     "status": "completed"
    },
    "tags": []
   },
   "outputs": [
    {
     "name": "stdout",
     "output_type": "stream",
     "text": [
      "Number of transactions:  590540\n",
      "Proportion of fraudulent transaction: 0.0350\n",
      "Number of transaction with ID data:  144233\n",
      "----------------------------------------\n",
      "Dataframe head:\n"
     ]
    },
    {
     "data": {
      "text/html": [
       "<div>\n",
       "<style scoped>\n",
       "    .dataframe tbody tr th:only-of-type {\n",
       "        vertical-align: middle;\n",
       "    }\n",
       "\n",
       "    .dataframe tbody tr th {\n",
       "        vertical-align: top;\n",
       "    }\n",
       "\n",
       "    .dataframe thead th {\n",
       "        text-align: right;\n",
       "    }\n",
       "</style>\n",
       "<table border=\"1\" class=\"dataframe\">\n",
       "  <thead>\n",
       "    <tr style=\"text-align: right;\">\n",
       "      <th></th>\n",
       "      <th>TransactionID</th>\n",
       "      <th>isFraud</th>\n",
       "      <th>TransactionDT</th>\n",
       "      <th>TransactionAmt</th>\n",
       "      <th>ProductCD</th>\n",
       "      <th>card1</th>\n",
       "      <th>card2</th>\n",
       "      <th>card3</th>\n",
       "      <th>card4</th>\n",
       "      <th>card5</th>\n",
       "      <th>...</th>\n",
       "      <th>V330</th>\n",
       "      <th>V331</th>\n",
       "      <th>V332</th>\n",
       "      <th>V333</th>\n",
       "      <th>V334</th>\n",
       "      <th>V335</th>\n",
       "      <th>V336</th>\n",
       "      <th>V337</th>\n",
       "      <th>V338</th>\n",
       "      <th>V339</th>\n",
       "    </tr>\n",
       "  </thead>\n",
       "  <tbody>\n",
       "    <tr>\n",
       "      <th>0</th>\n",
       "      <td>2987000</td>\n",
       "      <td>0</td>\n",
       "      <td>86400</td>\n",
       "      <td>68.5</td>\n",
       "      <td>W</td>\n",
       "      <td>13926</td>\n",
       "      <td>NaN</td>\n",
       "      <td>150.0</td>\n",
       "      <td>discover</td>\n",
       "      <td>142.0</td>\n",
       "      <td>...</td>\n",
       "      <td>NaN</td>\n",
       "      <td>NaN</td>\n",
       "      <td>NaN</td>\n",
       "      <td>NaN</td>\n",
       "      <td>NaN</td>\n",
       "      <td>NaN</td>\n",
       "      <td>NaN</td>\n",
       "      <td>NaN</td>\n",
       "      <td>NaN</td>\n",
       "      <td>NaN</td>\n",
       "    </tr>\n",
       "    <tr>\n",
       "      <th>1</th>\n",
       "      <td>2987001</td>\n",
       "      <td>0</td>\n",
       "      <td>86401</td>\n",
       "      <td>29.0</td>\n",
       "      <td>W</td>\n",
       "      <td>2755</td>\n",
       "      <td>404.0</td>\n",
       "      <td>150.0</td>\n",
       "      <td>mastercard</td>\n",
       "      <td>102.0</td>\n",
       "      <td>...</td>\n",
       "      <td>NaN</td>\n",
       "      <td>NaN</td>\n",
       "      <td>NaN</td>\n",
       "      <td>NaN</td>\n",
       "      <td>NaN</td>\n",
       "      <td>NaN</td>\n",
       "      <td>NaN</td>\n",
       "      <td>NaN</td>\n",
       "      <td>NaN</td>\n",
       "      <td>NaN</td>\n",
       "    </tr>\n",
       "    <tr>\n",
       "      <th>2</th>\n",
       "      <td>2987002</td>\n",
       "      <td>0</td>\n",
       "      <td>86469</td>\n",
       "      <td>59.0</td>\n",
       "      <td>W</td>\n",
       "      <td>4663</td>\n",
       "      <td>490.0</td>\n",
       "      <td>150.0</td>\n",
       "      <td>visa</td>\n",
       "      <td>166.0</td>\n",
       "      <td>...</td>\n",
       "      <td>NaN</td>\n",
       "      <td>NaN</td>\n",
       "      <td>NaN</td>\n",
       "      <td>NaN</td>\n",
       "      <td>NaN</td>\n",
       "      <td>NaN</td>\n",
       "      <td>NaN</td>\n",
       "      <td>NaN</td>\n",
       "      <td>NaN</td>\n",
       "      <td>NaN</td>\n",
       "    </tr>\n",
       "    <tr>\n",
       "      <th>3</th>\n",
       "      <td>2987003</td>\n",
       "      <td>0</td>\n",
       "      <td>86499</td>\n",
       "      <td>50.0</td>\n",
       "      <td>W</td>\n",
       "      <td>18132</td>\n",
       "      <td>567.0</td>\n",
       "      <td>150.0</td>\n",
       "      <td>mastercard</td>\n",
       "      <td>117.0</td>\n",
       "      <td>...</td>\n",
       "      <td>NaN</td>\n",
       "      <td>NaN</td>\n",
       "      <td>NaN</td>\n",
       "      <td>NaN</td>\n",
       "      <td>NaN</td>\n",
       "      <td>NaN</td>\n",
       "      <td>NaN</td>\n",
       "      <td>NaN</td>\n",
       "      <td>NaN</td>\n",
       "      <td>NaN</td>\n",
       "    </tr>\n",
       "    <tr>\n",
       "      <th>4</th>\n",
       "      <td>2987004</td>\n",
       "      <td>0</td>\n",
       "      <td>86506</td>\n",
       "      <td>50.0</td>\n",
       "      <td>H</td>\n",
       "      <td>4497</td>\n",
       "      <td>514.0</td>\n",
       "      <td>150.0</td>\n",
       "      <td>mastercard</td>\n",
       "      <td>102.0</td>\n",
       "      <td>...</td>\n",
       "      <td>0.0</td>\n",
       "      <td>0.0</td>\n",
       "      <td>0.0</td>\n",
       "      <td>0.0</td>\n",
       "      <td>0.0</td>\n",
       "      <td>0.0</td>\n",
       "      <td>0.0</td>\n",
       "      <td>0.0</td>\n",
       "      <td>0.0</td>\n",
       "      <td>0.0</td>\n",
       "    </tr>\n",
       "  </tbody>\n",
       "</table>\n",
       "<p>5 rows × 394 columns</p>\n",
       "</div>"
      ],
      "text/plain": [
       "   TransactionID  isFraud  TransactionDT  TransactionAmt ProductCD  card1  \\\n",
       "0        2987000        0          86400            68.5         W  13926   \n",
       "1        2987001        0          86401            29.0         W   2755   \n",
       "2        2987002        0          86469            59.0         W   4663   \n",
       "3        2987003        0          86499            50.0         W  18132   \n",
       "4        2987004        0          86506            50.0         H   4497   \n",
       "\n",
       "   card2  card3       card4  card5  ... V330  V331  V332  V333  V334 V335  \\\n",
       "0    NaN  150.0    discover  142.0  ...  NaN   NaN   NaN   NaN   NaN  NaN   \n",
       "1  404.0  150.0  mastercard  102.0  ...  NaN   NaN   NaN   NaN   NaN  NaN   \n",
       "2  490.0  150.0        visa  166.0  ...  NaN   NaN   NaN   NaN   NaN  NaN   \n",
       "3  567.0  150.0  mastercard  117.0  ...  NaN   NaN   NaN   NaN   NaN  NaN   \n",
       "4  514.0  150.0  mastercard  102.0  ...  0.0   0.0   0.0   0.0   0.0  0.0   \n",
       "\n",
       "  V336  V337  V338  V339  \n",
       "0  NaN   NaN   NaN   NaN  \n",
       "1  NaN   NaN   NaN   NaN  \n",
       "2  NaN   NaN   NaN   NaN  \n",
       "3  NaN   NaN   NaN   NaN  \n",
       "4  0.0   0.0   0.0   0.0  \n",
       "\n",
       "[5 rows x 394 columns]"
      ]
     },
     "metadata": {},
     "output_type": "display_data"
    },
    {
     "data": {
      "text/html": [
       "<div>\n",
       "<style scoped>\n",
       "    .dataframe tbody tr th:only-of-type {\n",
       "        vertical-align: middle;\n",
       "    }\n",
       "\n",
       "    .dataframe tbody tr th {\n",
       "        vertical-align: top;\n",
       "    }\n",
       "\n",
       "    .dataframe thead th {\n",
       "        text-align: right;\n",
       "    }\n",
       "</style>\n",
       "<table border=\"1\" class=\"dataframe\">\n",
       "  <thead>\n",
       "    <tr style=\"text-align: right;\">\n",
       "      <th></th>\n",
       "      <th>TransactionID</th>\n",
       "      <th>id_01</th>\n",
       "      <th>id_02</th>\n",
       "      <th>id_03</th>\n",
       "      <th>id_04</th>\n",
       "      <th>id_05</th>\n",
       "      <th>id_06</th>\n",
       "      <th>id_07</th>\n",
       "      <th>id_08</th>\n",
       "      <th>id_09</th>\n",
       "      <th>...</th>\n",
       "      <th>id_31</th>\n",
       "      <th>id_32</th>\n",
       "      <th>id_33</th>\n",
       "      <th>id_34</th>\n",
       "      <th>id_35</th>\n",
       "      <th>id_36</th>\n",
       "      <th>id_37</th>\n",
       "      <th>id_38</th>\n",
       "      <th>DeviceType</th>\n",
       "      <th>DeviceInfo</th>\n",
       "    </tr>\n",
       "  </thead>\n",
       "  <tbody>\n",
       "    <tr>\n",
       "      <th>0</th>\n",
       "      <td>2987004</td>\n",
       "      <td>0.0</td>\n",
       "      <td>70787.0</td>\n",
       "      <td>NaN</td>\n",
       "      <td>NaN</td>\n",
       "      <td>NaN</td>\n",
       "      <td>NaN</td>\n",
       "      <td>NaN</td>\n",
       "      <td>NaN</td>\n",
       "      <td>NaN</td>\n",
       "      <td>...</td>\n",
       "      <td>samsung browser 6.2</td>\n",
       "      <td>32.0</td>\n",
       "      <td>2220x1080</td>\n",
       "      <td>match_status:2</td>\n",
       "      <td>T</td>\n",
       "      <td>F</td>\n",
       "      <td>T</td>\n",
       "      <td>T</td>\n",
       "      <td>mobile</td>\n",
       "      <td>SAMSUNG SM-G892A Build/NRD90M</td>\n",
       "    </tr>\n",
       "    <tr>\n",
       "      <th>1</th>\n",
       "      <td>2987008</td>\n",
       "      <td>-5.0</td>\n",
       "      <td>98945.0</td>\n",
       "      <td>NaN</td>\n",
       "      <td>NaN</td>\n",
       "      <td>0.0</td>\n",
       "      <td>-5.0</td>\n",
       "      <td>NaN</td>\n",
       "      <td>NaN</td>\n",
       "      <td>NaN</td>\n",
       "      <td>...</td>\n",
       "      <td>mobile safari 11.0</td>\n",
       "      <td>32.0</td>\n",
       "      <td>1334x750</td>\n",
       "      <td>match_status:1</td>\n",
       "      <td>T</td>\n",
       "      <td>F</td>\n",
       "      <td>F</td>\n",
       "      <td>T</td>\n",
       "      <td>mobile</td>\n",
       "      <td>iOS Device</td>\n",
       "    </tr>\n",
       "    <tr>\n",
       "      <th>2</th>\n",
       "      <td>2987010</td>\n",
       "      <td>-5.0</td>\n",
       "      <td>191631.0</td>\n",
       "      <td>0.0</td>\n",
       "      <td>0.0</td>\n",
       "      <td>0.0</td>\n",
       "      <td>0.0</td>\n",
       "      <td>NaN</td>\n",
       "      <td>NaN</td>\n",
       "      <td>0.0</td>\n",
       "      <td>...</td>\n",
       "      <td>chrome 62.0</td>\n",
       "      <td>NaN</td>\n",
       "      <td>NaN</td>\n",
       "      <td>NaN</td>\n",
       "      <td>F</td>\n",
       "      <td>F</td>\n",
       "      <td>T</td>\n",
       "      <td>T</td>\n",
       "      <td>desktop</td>\n",
       "      <td>Windows</td>\n",
       "    </tr>\n",
       "    <tr>\n",
       "      <th>3</th>\n",
       "      <td>2987011</td>\n",
       "      <td>-5.0</td>\n",
       "      <td>221832.0</td>\n",
       "      <td>NaN</td>\n",
       "      <td>NaN</td>\n",
       "      <td>0.0</td>\n",
       "      <td>-6.0</td>\n",
       "      <td>NaN</td>\n",
       "      <td>NaN</td>\n",
       "      <td>NaN</td>\n",
       "      <td>...</td>\n",
       "      <td>chrome 62.0</td>\n",
       "      <td>NaN</td>\n",
       "      <td>NaN</td>\n",
       "      <td>NaN</td>\n",
       "      <td>F</td>\n",
       "      <td>F</td>\n",
       "      <td>T</td>\n",
       "      <td>T</td>\n",
       "      <td>desktop</td>\n",
       "      <td>NaN</td>\n",
       "    </tr>\n",
       "    <tr>\n",
       "      <th>4</th>\n",
       "      <td>2987016</td>\n",
       "      <td>0.0</td>\n",
       "      <td>7460.0</td>\n",
       "      <td>0.0</td>\n",
       "      <td>0.0</td>\n",
       "      <td>1.0</td>\n",
       "      <td>0.0</td>\n",
       "      <td>NaN</td>\n",
       "      <td>NaN</td>\n",
       "      <td>0.0</td>\n",
       "      <td>...</td>\n",
       "      <td>chrome 62.0</td>\n",
       "      <td>24.0</td>\n",
       "      <td>1280x800</td>\n",
       "      <td>match_status:2</td>\n",
       "      <td>T</td>\n",
       "      <td>F</td>\n",
       "      <td>T</td>\n",
       "      <td>T</td>\n",
       "      <td>desktop</td>\n",
       "      <td>MacOS</td>\n",
       "    </tr>\n",
       "  </tbody>\n",
       "</table>\n",
       "<p>5 rows × 41 columns</p>\n",
       "</div>"
      ],
      "text/plain": [
       "   TransactionID  id_01     id_02  id_03  id_04  id_05  id_06  id_07  id_08  \\\n",
       "0        2987004    0.0   70787.0    NaN    NaN    NaN    NaN    NaN    NaN   \n",
       "1        2987008   -5.0   98945.0    NaN    NaN    0.0   -5.0    NaN    NaN   \n",
       "2        2987010   -5.0  191631.0    0.0    0.0    0.0    0.0    NaN    NaN   \n",
       "3        2987011   -5.0  221832.0    NaN    NaN    0.0   -6.0    NaN    NaN   \n",
       "4        2987016    0.0    7460.0    0.0    0.0    1.0    0.0    NaN    NaN   \n",
       "\n",
       "   id_09  ...                id_31  id_32      id_33           id_34  id_35  \\\n",
       "0    NaN  ...  samsung browser 6.2   32.0  2220x1080  match_status:2      T   \n",
       "1    NaN  ...   mobile safari 11.0   32.0   1334x750  match_status:1      T   \n",
       "2    0.0  ...          chrome 62.0    NaN        NaN             NaN      F   \n",
       "3    NaN  ...          chrome 62.0    NaN        NaN             NaN      F   \n",
       "4    0.0  ...          chrome 62.0   24.0   1280x800  match_status:2      T   \n",
       "\n",
       "  id_36 id_37  id_38  DeviceType                     DeviceInfo  \n",
       "0     F     T      T      mobile  SAMSUNG SM-G892A Build/NRD90M  \n",
       "1     F     F      T      mobile                     iOS Device  \n",
       "2     F     T      T     desktop                        Windows  \n",
       "3     F     T      T     desktop                            NaN  \n",
       "4     F     T      T     desktop                          MacOS  \n",
       "\n",
       "[5 rows x 41 columns]"
      ]
     },
     "metadata": {},
     "output_type": "display_data"
    }
   ],
   "source": [
    "transactions_df = pd.read_csv('/kaggle/input/ieee-fraud-detection/train_transaction.csv')\n",
    "num_transactions = transactions_df.shape[0]\n",
    "print(\"Number of transactions: \", num_transactions)\n",
    "print(f\"Proportion of fraudulent transaction: {transactions_df.isFraud.value_counts(normalize=True)[1]:.4f}\")\n",
    "identity_df = pd.read_csv('/kaggle/input/ieee-fraud-detection/train_identity.csv')\n",
    "print(\"Number of transaction with ID data: \",identity_df.shape[0])\n",
    "print('-'*40)\n",
    "print(\"Dataframe head:\")\n",
    "display(transactions_df.head())\n",
    "display(identity_df.head())"
   ]
  },
  {
   "cell_type": "markdown",
   "id": "4e5faa93",
   "metadata": {
    "papermill": {
     "duration": 0.01521,
     "end_time": "2024-09-10T12:08:37.466058",
     "exception": false,
     "start_time": "2024-09-10T12:08:37.450848",
     "status": "completed"
    },
    "tags": []
   },
   "source": [
    "## Train/val split\n",
    "\n",
    "We split the data into train and validation sets (the competition provides the test set, which we are ignoring for now)."
   ]
  },
  {
   "cell_type": "code",
   "execution_count": 3,
   "id": "0c4ee76c",
   "metadata": {
    "execution": {
     "iopub.execute_input": "2024-09-10T12:08:37.500647Z",
     "iopub.status.busy": "2024-09-10T12:08:37.499097Z",
     "iopub.status.idle": "2024-09-10T12:08:37.508258Z",
     "shell.execute_reply": "2024-09-10T12:08:37.506697Z"
    },
    "papermill": {
     "duration": 0.029469,
     "end_time": "2024-09-10T12:08:37.511476",
     "exception": false,
     "start_time": "2024-09-10T12:08:37.482007",
     "status": "completed"
    },
    "tags": []
   },
   "outputs": [],
   "source": [
    "# user set the ratio\n",
    "TRAIN_VAL_RATIO = 0.75\n",
    "\n",
    "# determine number of training records\n",
    "n_train = int(transactions_df.shape[0]*TRAIN_VAL_RATIO)\n",
    "\n",
    "# train/val split : split by time, training set preceeds val set.\n",
    "train_ids = transactions_df.TransactionID[:n_train]\n",
    "val_ids = transactions_df.TransactionID[n_train:]"
   ]
  },
  {
   "cell_type": "markdown",
   "id": "3bf0eaac",
   "metadata": {
    "papermill": {
     "duration": 0.015556,
     "end_time": "2024-09-10T12:08:37.544569",
     "exception": false,
     "start_time": "2024-09-10T12:08:37.529013",
     "status": "completed"
    },
    "tags": []
   },
   "source": [
    "## Determining the features\n",
    "\n",
    "We extract some identification features from `transactions_df`, and perform one-hot encoding for the categorical columns. We also apply a log transform to the `TransactionAmt` column so it is closer to a normal distribution."
   ]
  },
  {
   "cell_type": "code",
   "execution_count": 4,
   "id": "e187b660",
   "metadata": {
    "execution": {
     "iopub.execute_input": "2024-09-10T12:08:37.578781Z",
     "iopub.status.busy": "2024-09-10T12:08:37.577784Z",
     "iopub.status.idle": "2024-09-10T12:08:47.476948Z",
     "shell.execute_reply": "2024-09-10T12:08:47.475485Z"
    },
    "papermill": {
     "duration": 9.919649,
     "end_time": "2024-09-10T12:08:47.480262",
     "exception": false,
     "start_time": "2024-09-10T12:08:37.560613",
     "status": "completed"
    },
    "tags": []
   },
   "outputs": [
    {
     "data": {
      "image/png": "[encoded data removed]",
      "text/plain": [
       "<Figure size 640x480 with 1 Axes>"
      ]
     },
     "metadata": {},
     "output_type": "display_data"
    }
   ],
   "source": [
    "# get id columns from transactions_df\n",
    "id_cols = ['card1','card2','card3','card4','card5','card6','ProductCD','addr1','addr2','P_emaildomain','R_emaildomain'] \n",
    "# get categorical columns for node features\n",
    "cat_cols = ['M1','M2','M3','M4','M5','M6','M7','M8','M9']   \n",
    "# get features and labels\n",
    "transactions_non_features = ['isFraud','TransactionDT'] + id_cols\n",
    "features_cols = [col for col in transactions_df.columns if col not in transactions_non_features]\n",
    "# create df for transaction node features\n",
    "features_df = pd.get_dummies(transactions_df[features_cols], columns=cat_cols).fillna(0)\n",
    "# take log of transaction amount\n",
    "features_df['TransactionAmt'] = features_df['TransactionAmt'].apply(np.log10)\n",
    "# show new distribution\n",
    "features_df['TransactionAmt'].plot(kind='hist', bins=[0,0.5,1,1.5,2,2.5,3,3.5,4])\n",
    "plt.title('Distribution of transaction amounts')\n",
    "plt.xlabel('Log of transaction amount')\n",
    "plt.show()\n",
    "# create a df for the labels\n",
    "labels_df = transactions_df[['TransactionID','isFraud']]\n",
    "# create a list of all node types except TransactionID\n",
    "node_types = id_cols + list(identity_df.columns)\n",
    "node_types.remove('TransactionID')\n",
    "# join the dfs to get a table with all ID data\n",
    "full_identity_df = identity_df.merge(transactions_df[id_cols+['TransactionID']], on='TransactionID', how='right')\n",
    "# create a dictionary of df that will determine the edges in the graph\n",
    "edge_dfs = {}\n",
    "for ntype  in node_types:\n",
    "    edge_dfs[ntype] = full_identity_df[['TransactionID', ntype]].dropna() "
   ]
  },
  {
   "cell_type": "markdown",
   "id": "766ae8a5",
   "metadata": {
    "papermill": {
     "duration": 0.01593,
     "end_time": "2024-09-10T12:08:47.513186",
     "exception": false,
     "start_time": "2024-09-10T12:08:47.497256",
     "status": "completed"
    },
    "tags": []
   },
   "source": [
    "## Building the graph\n",
    "\n",
    "Our graph will have nodes of several types. The 'target' nodes will store the `TransactionID`, while the remaining node types will be the other columns of `full_identity_df`, or equvalently, the entries in the list `node_types`.\n",
    "\n",
    "We add edges (bidirectional) linking a TransactionID with a corresponding ID feature.\n",
    "\n",
    "The target nodes will have associated features, coming from `features_df`.\n",
    "\n",
    "### Transaction ID to dgl node index\n",
    "\n",
    "We build a dictionary of dictionaries, one for each node type. They map the transaction IDs to indices for DGL to build a graph from. There are a couple of things to note here:\n",
    "\n",
    "* The node indices for DGL start at zero.\n",
    "* Each node type has to have its own index list: for each node type, start from zero."
   ]
  },
  {
   "cell_type": "code",
   "execution_count": 5,
   "id": "55f978ec",
   "metadata": {
    "execution": {
     "iopub.execute_input": "2024-09-10T12:08:47.548915Z",
     "iopub.status.busy": "2024-09-10T12:08:47.547763Z",
     "iopub.status.idle": "2024-09-10T12:08:51.920817Z",
     "shell.execute_reply": "2024-09-10T12:08:51.917580Z"
    },
    "papermill": {
     "duration": 4.404135,
     "end_time": "2024-09-10T12:08:51.933718",
     "exception": false,
     "start_time": "2024-09-10T12:08:47.529583",
     "status": "completed"
    },
    "tags": []
   },
   "outputs": [],
   "source": [
    "# initialize the dictionary to store each ID to dgl node index dictionary\n",
    "id_to_node = {}\n",
    "\n",
    "# First get dgl indices for TransactionID/target nodes\n",
    "id_to_node['target'] = dict([(v,k) for k,v in dict(transactions_df['TransactionID']).items()])\n",
    "\n",
    "# Then cycle through the other ID types and add those to the list (dict)\n",
    "for ntype in node_types:\n",
    "    new_nodes_ids = edge_dfs[ntype][ntype].unique()\n",
    "    new_nodes_dgl = np.arange(len(new_nodes_ids)+1)\n",
    "    id_to_node[ntype] = { a:b for a,b in zip(new_nodes_ids, new_nodes_dgl)}"
   ]
  },
  {
   "cell_type": "code",
   "execution_count": 6,
   "id": "ee7acbd2",
   "metadata": {
    "execution": {
     "iopub.execute_input": "2024-09-10T12:08:51.975610Z",
     "iopub.status.busy": "2024-09-10T12:08:51.973737Z",
     "iopub.status.idle": "2024-09-10T12:08:51.985633Z",
     "shell.execute_reply": "2024-09-10T12:08:51.984054Z"
    },
    "papermill": {
     "duration": 0.034964,
     "end_time": "2024-09-10T12:08:51.989264",
     "exception": false,
     "start_time": "2024-09-10T12:08:51.954300",
     "status": "completed"
    },
    "tags": []
   },
   "outputs": [
    {
     "data": {
      "text/plain": [
       "{'discover': 0, 'mastercard': 1, 'visa': 2, 'american express': 3}"
      ]
     },
     "execution_count": 6,
     "metadata": {},
     "output_type": "execute_result"
    }
   ],
   "source": [
    "# for example:\n",
    "id_to_node['card4']"
   ]
  },
  {
   "cell_type": "markdown",
   "id": "3ca7db4b",
   "metadata": {
    "papermill": {
     "duration": 0.018598,
     "end_time": "2024-09-10T12:08:52.025669",
     "exception": false,
     "start_time": "2024-09-10T12:08:52.007071",
     "status": "completed"
    },
    "tags": []
   },
   "source": [
    "## Building edge lists\n",
    "\n",
    "These will come from the `edge_dfs`. Whenever a transaction is linked to a particular value in a given id column, we connect the corresponding nodes by an edge.\n",
    "\n",
    "For DGL, we need to express the edge type as triples: \n",
    "\n",
    "* (source type, relation type, destination type).\n",
    "\n",
    "To list the edges this applies to, we have two options. One is to provide two lists, one of initial nodes, and a second list of the same length of the corresponding terminal nodes:\n",
    "\n",
    "* [(source nodes, destination nodes)]\n",
    "\n",
    "### Adding self-loops\n",
    "\n",
    "A self-loop is an edge whose source and destination nodes are the same. If we add these to the graph, then for each layer in the GNN, a nodes creates a message to pass to itself, so it uses its current feature vector to update itself (along with messages from its neighbors).\n",
    "\n",
    "We will add self-loops to our target notes (the idea being that the other nodes as essentially \"steps\" in the message passing from one target node to another)."
   ]
  },
  {
   "cell_type": "code",
   "execution_count": 7,
   "id": "35490e79",
   "metadata": {
    "execution": {
     "iopub.execute_input": "2024-09-10T12:08:52.067569Z",
     "iopub.status.busy": "2024-09-10T12:08:52.067075Z",
     "iopub.status.idle": "2024-09-10T12:09:14.904649Z",
     "shell.execute_reply": "2024-09-10T12:09:14.902842Z"
    },
    "papermill": {
     "duration": 22.865034,
     "end_time": "2024-09-10T12:09:14.909257",
     "exception": false,
     "start_time": "2024-09-10T12:08:52.044223",
     "status": "completed"
    },
    "tags": []
   },
   "outputs": [],
   "source": [
    "# instantiate the edge list dictionary\n",
    "edgelists = {}\n",
    "num_nodes_dict = {}\n",
    "\n",
    "for ntype in node_types:\n",
    "    # prepare each edge type triple and its reverse\n",
    "    edge_type = ('target','target<>'+ntype,ntype)\n",
    "    rev_edge_type = (ntype, ntype+'<>target','target')\n",
    "    # get list of initial nodes and destination nodes\n",
    "    source_nodes = edge_dfs[ntype]['TransactionID'].apply(lambda a : id_to_node['target'][a]).to_numpy()\n",
    "    destination_nodes = edge_dfs[ntype][ntype].apply(lambda a : id_to_node[ntype][a]).to_numpy()\n",
    "    # add to dict\n",
    "    edgelists[edge_type] = ( source_nodes, destination_nodes )\n",
    "    edgelists[rev_edge_type] = (destination_nodes, source_nodes)\n",
    "    # get number of nodes of this type\n",
    "    num_nodes_dict[ntype] = len(np.unique(destination_nodes))\n",
    "    \n",
    "# add self-loops for target nodes\n",
    "source_nodes = edge_dfs[ntype]['TransactionID'].apply(lambda a : id_to_node['target'][a]).to_numpy()\n",
    "edgelists[('target','target<>target','target')] = (source_nodes,source_nodes)\n",
    "num_nodes_dict['target'] = num_transactions"
   ]
  },
  {
   "cell_type": "code",
   "execution_count": 8,
   "id": "27d730d9",
   "metadata": {
    "execution": {
     "iopub.execute_input": "2024-09-10T12:09:14.946012Z",
     "iopub.status.busy": "2024-09-10T12:09:14.945552Z",
     "iopub.status.idle": "2024-09-10T12:09:15.116947Z",
     "shell.execute_reply": "2024-09-10T12:09:15.115184Z"
    },
    "papermill": {
     "duration": 0.19365,
     "end_time": "2024-09-10T12:09:15.121049",
     "exception": false,
     "start_time": "2024-09-10T12:09:14.927399",
     "status": "completed"
    },
    "tags": []
   },
   "outputs": [],
   "source": [
    "# create the graph\n",
    "g = dgl.heterograph(edgelists, num_nodes_dict)"
   ]
  },
  {
   "cell_type": "code",
   "execution_count": 9,
   "id": "acf24cfc",
   "metadata": {
    "execution": {
     "iopub.execute_input": "2024-09-10T12:09:15.155758Z",
     "iopub.status.busy": "2024-09-10T12:09:15.154976Z",
     "iopub.status.idle": "2024-09-10T12:09:16.374855Z",
     "shell.execute_reply": "2024-09-10T12:09:16.373349Z"
    },
    "papermill": {
     "duration": 1.242025,
     "end_time": "2024-09-10T12:09:16.379292",
     "exception": false,
     "start_time": "2024-09-10T12:09:15.137267",
     "status": "completed"
    },
    "tags": []
   },
   "outputs": [
    {
     "data": {
      "image/png": "[encoded data removed]",
      "text/plain": [
       "<Figure size 640x480 with 1 Axes>"
      ]
     },
     "metadata": {},
     "output_type": "display_data"
    }
   ],
   "source": [
    "# Visualizing the metagraph (sanity check: it should be star-shaped, with the target node in the center and a node for each id feature)\n",
    "meta = g.metagraph()\n",
    "nx.draw(meta)"
   ]
  },
  {
   "cell_type": "markdown",
   "id": "0378b53c",
   "metadata": {
    "papermill": {
     "duration": 0.018234,
     "end_time": "2024-09-10T12:09:16.417200",
     "exception": false,
     "start_time": "2024-09-10T12:09:16.398966",
     "status": "completed"
    },
    "tags": []
   },
   "source": [
    "## Adding features\n",
    "\n",
    "The graph currently has no features associated to nodes. We will use `features_df` created above to add a feature vector to each target node."
   ]
  },
  {
   "cell_type": "code",
   "execution_count": 10,
   "id": "e5f77f82",
   "metadata": {
    "execution": {
     "iopub.execute_input": "2024-09-10T12:09:16.457043Z",
     "iopub.status.busy": "2024-09-10T12:09:16.456542Z",
     "iopub.status.idle": "2024-09-10T12:09:16.494488Z",
     "shell.execute_reply": "2024-09-10T12:09:16.492768Z"
    },
    "papermill": {
     "duration": 0.060439,
     "end_time": "2024-09-10T12:09:16.497421",
     "exception": false,
     "start_time": "2024-09-10T12:09:16.436982",
     "status": "completed"
    },
    "tags": []
   },
   "outputs": [
    {
     "data": {
      "text/html": [
       "<div>\n",
       "<style scoped>\n",
       "    .dataframe tbody tr th:only-of-type {\n",
       "        vertical-align: middle;\n",
       "    }\n",
       "\n",
       "    .dataframe tbody tr th {\n",
       "        vertical-align: top;\n",
       "    }\n",
       "\n",
       "    .dataframe thead th {\n",
       "        text-align: right;\n",
       "    }\n",
       "</style>\n",
       "<table border=\"1\" class=\"dataframe\">\n",
       "  <thead>\n",
       "    <tr style=\"text-align: right;\">\n",
       "      <th></th>\n",
       "      <th>TransactionID</th>\n",
       "      <th>TransactionAmt</th>\n",
       "      <th>dist1</th>\n",
       "      <th>dist2</th>\n",
       "      <th>C1</th>\n",
       "      <th>C2</th>\n",
       "      <th>C3</th>\n",
       "      <th>C4</th>\n",
       "      <th>C5</th>\n",
       "      <th>C6</th>\n",
       "      <th>...</th>\n",
       "      <th>M5_F</th>\n",
       "      <th>M5_T</th>\n",
       "      <th>M6_F</th>\n",
       "      <th>M6_T</th>\n",
       "      <th>M7_F</th>\n",
       "      <th>M7_T</th>\n",
       "      <th>M8_F</th>\n",
       "      <th>M8_T</th>\n",
       "      <th>M9_F</th>\n",
       "      <th>M9_T</th>\n",
       "    </tr>\n",
       "  </thead>\n",
       "  <tbody>\n",
       "    <tr>\n",
       "      <th>0</th>\n",
       "      <td>2987000</td>\n",
       "      <td>1.835691</td>\n",
       "      <td>19.0</td>\n",
       "      <td>0.0</td>\n",
       "      <td>1.0</td>\n",
       "      <td>1.0</td>\n",
       "      <td>0.0</td>\n",
       "      <td>0.0</td>\n",
       "      <td>0.0</td>\n",
       "      <td>1.0</td>\n",
       "      <td>...</td>\n",
       "      <td>1</td>\n",
       "      <td>0</td>\n",
       "      <td>0</td>\n",
       "      <td>1</td>\n",
       "      <td>0</td>\n",
       "      <td>0</td>\n",
       "      <td>0</td>\n",
       "      <td>0</td>\n",
       "      <td>0</td>\n",
       "      <td>0</td>\n",
       "    </tr>\n",
       "    <tr>\n",
       "      <th>1</th>\n",
       "      <td>2987001</td>\n",
       "      <td>1.462398</td>\n",
       "      <td>0.0</td>\n",
       "      <td>0.0</td>\n",
       "      <td>1.0</td>\n",
       "      <td>1.0</td>\n",
       "      <td>0.0</td>\n",
       "      <td>0.0</td>\n",
       "      <td>0.0</td>\n",
       "      <td>1.0</td>\n",
       "      <td>...</td>\n",
       "      <td>0</td>\n",
       "      <td>1</td>\n",
       "      <td>0</td>\n",
       "      <td>1</td>\n",
       "      <td>0</td>\n",
       "      <td>0</td>\n",
       "      <td>0</td>\n",
       "      <td>0</td>\n",
       "      <td>0</td>\n",
       "      <td>0</td>\n",
       "    </tr>\n",
       "    <tr>\n",
       "      <th>2</th>\n",
       "      <td>2987002</td>\n",
       "      <td>1.770852</td>\n",
       "      <td>287.0</td>\n",
       "      <td>0.0</td>\n",
       "      <td>1.0</td>\n",
       "      <td>1.0</td>\n",
       "      <td>0.0</td>\n",
       "      <td>0.0</td>\n",
       "      <td>0.0</td>\n",
       "      <td>1.0</td>\n",
       "      <td>...</td>\n",
       "      <td>1</td>\n",
       "      <td>0</td>\n",
       "      <td>1</td>\n",
       "      <td>0</td>\n",
       "      <td>1</td>\n",
       "      <td>0</td>\n",
       "      <td>1</td>\n",
       "      <td>0</td>\n",
       "      <td>1</td>\n",
       "      <td>0</td>\n",
       "    </tr>\n",
       "    <tr>\n",
       "      <th>3</th>\n",
       "      <td>2987003</td>\n",
       "      <td>1.698970</td>\n",
       "      <td>0.0</td>\n",
       "      <td>0.0</td>\n",
       "      <td>2.0</td>\n",
       "      <td>5.0</td>\n",
       "      <td>0.0</td>\n",
       "      <td>0.0</td>\n",
       "      <td>0.0</td>\n",
       "      <td>4.0</td>\n",
       "      <td>...</td>\n",
       "      <td>0</td>\n",
       "      <td>1</td>\n",
       "      <td>1</td>\n",
       "      <td>0</td>\n",
       "      <td>0</td>\n",
       "      <td>0</td>\n",
       "      <td>0</td>\n",
       "      <td>0</td>\n",
       "      <td>0</td>\n",
       "      <td>0</td>\n",
       "    </tr>\n",
       "    <tr>\n",
       "      <th>4</th>\n",
       "      <td>2987004</td>\n",
       "      <td>1.698970</td>\n",
       "      <td>0.0</td>\n",
       "      <td>0.0</td>\n",
       "      <td>1.0</td>\n",
       "      <td>1.0</td>\n",
       "      <td>0.0</td>\n",
       "      <td>0.0</td>\n",
       "      <td>0.0</td>\n",
       "      <td>1.0</td>\n",
       "      <td>...</td>\n",
       "      <td>0</td>\n",
       "      <td>0</td>\n",
       "      <td>0</td>\n",
       "      <td>0</td>\n",
       "      <td>0</td>\n",
       "      <td>0</td>\n",
       "      <td>0</td>\n",
       "      <td>0</td>\n",
       "      <td>0</td>\n",
       "      <td>0</td>\n",
       "    </tr>\n",
       "  </tbody>\n",
       "</table>\n",
       "<p>5 rows × 391 columns</p>\n",
       "</div>"
      ],
      "text/plain": [
       "   TransactionID  TransactionAmt  dist1  dist2   C1   C2   C3   C4   C5   C6  \\\n",
       "0        2987000        1.835691   19.0    0.0  1.0  1.0  0.0  0.0  0.0  1.0   \n",
       "1        2987001        1.462398    0.0    0.0  1.0  1.0  0.0  0.0  0.0  1.0   \n",
       "2        2987002        1.770852  287.0    0.0  1.0  1.0  0.0  0.0  0.0  1.0   \n",
       "3        2987003        1.698970    0.0    0.0  2.0  5.0  0.0  0.0  0.0  4.0   \n",
       "4        2987004        1.698970    0.0    0.0  1.0  1.0  0.0  0.0  0.0  1.0   \n",
       "\n",
       "   ...  M5_F  M5_T  M6_F  M6_T  M7_F  M7_T  M8_F  M8_T  M9_F  M9_T  \n",
       "0  ...     1     0     0     1     0     0     0     0     0     0  \n",
       "1  ...     0     1     0     1     0     0     0     0     0     0  \n",
       "2  ...     1     0     1     0     1     0     1     0     1     0  \n",
       "3  ...     0     1     1     0     0     0     0     0     0     0  \n",
       "4  ...     0     0     0     0     0     0     0     0     0     0  \n",
       "\n",
       "[5 rows x 391 columns]"
      ]
     },
     "execution_count": 10,
     "metadata": {},
     "output_type": "execute_result"
    }
   ],
   "source": [
    "features_df.head()"
   ]
  },
  {
   "cell_type": "code",
   "execution_count": 11,
   "id": "7fdf6d9f",
   "metadata": {
    "execution": {
     "iopub.execute_input": "2024-09-10T12:09:16.537021Z",
     "iopub.status.busy": "2024-09-10T12:09:16.536571Z",
     "iopub.status.idle": "2024-09-10T12:09:18.236186Z",
     "shell.execute_reply": "2024-09-10T12:09:18.234689Z"
    },
    "papermill": {
     "duration": 1.723147,
     "end_time": "2024-09-10T12:09:18.239507",
     "exception": false,
     "start_time": "2024-09-10T12:09:16.516360",
     "status": "completed"
    },
    "tags": []
   },
   "outputs": [],
   "source": [
    "# create pytorch tensor consisting of features for each node\n",
    "feature_tensor = torch.from_numpy(features_df.drop('TransactionID', axis=1).to_numpy())\n",
    "# add feature data to graph\n",
    "g.nodes['target'].data['features'] = feature_tensor"
   ]
  },
  {
   "cell_type": "code",
   "execution_count": 12,
   "id": "3cdb3e8e",
   "metadata": {
    "execution": {
     "iopub.execute_input": "2024-09-10T12:09:18.278786Z",
     "iopub.status.busy": "2024-09-10T12:09:18.277569Z",
     "iopub.status.idle": "2024-09-10T12:09:18.320766Z",
     "shell.execute_reply": "2024-09-10T12:09:18.319093Z"
    },
    "papermill": {
     "duration": 0.06613,
     "end_time": "2024-09-10T12:09:18.323970",
     "exception": false,
     "start_time": "2024-09-10T12:09:18.257840",
     "status": "completed"
    },
    "tags": []
   },
   "outputs": [
    {
     "name": "stdout",
     "output_type": "stream",
     "text": [
      "Feature vectors match. Check is good!\n"
     ]
    }
   ],
   "source": [
    "# sanity check\n",
    "# for random target node, compare expected features with the feature of the node\n",
    "trial = 1515\n",
    "\n",
    "# data from the table\n",
    "orig_feat = torch.from_numpy(features_df.iloc[trial,1:].to_numpy())\n",
    "# data from the graph\n",
    "graph_feat = g.ndata['features']['target'][trial]\n",
    "\n",
    "assert max(orig_feat - graph_feat) == 0\n",
    "print('Feature vectors match. Check is good!')"
   ]
  },
  {
   "cell_type": "markdown",
   "id": "a3ef687b",
   "metadata": {
    "papermill": {
     "duration": 0.021617,
     "end_time": "2024-09-10T12:09:18.364268",
     "exception": false,
     "start_time": "2024-09-10T12:09:18.342651",
     "status": "completed"
    },
    "tags": []
   },
   "source": [
    "## Get the masks and labels ready\n",
    "\n",
    "* Convert the training and validation id lists to lists of dgl node indices.\n",
    "\n",
    "* Convert the label df to a list."
   ]
  },
  {
   "cell_type": "code",
   "execution_count": 13,
   "id": "6d2419a5",
   "metadata": {
    "execution": {
     "iopub.execute_input": "2024-09-10T12:09:18.405552Z",
     "iopub.status.busy": "2024-09-10T12:09:18.404047Z",
     "iopub.status.idle": "2024-09-10T12:09:18.804013Z",
     "shell.execute_reply": "2024-09-10T12:09:18.802492Z"
    },
    "papermill": {
     "duration": 0.423615,
     "end_time": "2024-09-10T12:09:18.807612",
     "exception": false,
     "start_time": "2024-09-10T12:09:18.383997",
     "status": "completed"
    },
    "tags": []
   },
   "outputs": [],
   "source": [
    "train_mask = [ id_to_node['target'][x] for x in train_ids]\n",
    "val_mask = [ id_to_node['target'][x] for x in val_ids]"
   ]
  },
  {
   "cell_type": "code",
   "execution_count": 14,
   "id": "3f45b55a",
   "metadata": {
    "execution": {
     "iopub.execute_input": "2024-09-10T12:09:18.848155Z",
     "iopub.status.busy": "2024-09-10T12:09:18.847181Z",
     "iopub.status.idle": "2024-09-10T12:09:18.858686Z",
     "shell.execute_reply": "2024-09-10T12:09:18.856938Z"
    },
    "papermill": {
     "duration": 0.035409,
     "end_time": "2024-09-10T12:09:18.861938",
     "exception": false,
     "start_time": "2024-09-10T12:09:18.826529",
     "status": "completed"
    },
    "tags": []
   },
   "outputs": [],
   "source": [
    "labels = torch.tensor(labels_df['isFraud'].to_numpy()).float()"
   ]
  },
  {
   "cell_type": "markdown",
   "id": "5a5d8b43",
   "metadata": {
    "papermill": {
     "duration": 0.018914,
     "end_time": "2024-09-10T12:09:18.902480",
     "exception": false,
     "start_time": "2024-09-10T12:09:18.883566",
     "status": "completed"
    },
    "tags": []
   },
   "source": [
    "## Feature normalization"
   ]
  },
  {
   "cell_type": "code",
   "execution_count": 15,
   "id": "c87c188e",
   "metadata": {
    "execution": {
     "iopub.execute_input": "2024-09-10T12:09:18.942847Z",
     "iopub.status.busy": "2024-09-10T12:09:18.942365Z",
     "iopub.status.idle": "2024-09-10T12:09:22.149582Z",
     "shell.execute_reply": "2024-09-10T12:09:22.148265Z"
    },
    "papermill": {
     "duration": 3.230999,
     "end_time": "2024-09-10T12:09:22.152776",
     "exception": false,
     "start_time": "2024-09-10T12:09:18.921777",
     "status": "completed"
    },
    "tags": []
   },
   "outputs": [],
   "source": [
    "mean = torch.mean(g.ndata['features']['target'], axis=0)\n",
    "std = torch.sqrt(torch.sum((g.ndata['features']['target'] - mean)**2, axis=0)/g.ndata['features']['target'].shape[0])"
   ]
  },
  {
   "cell_type": "code",
   "execution_count": 16,
   "id": "f4bbdcfe",
   "metadata": {
    "execution": {
     "iopub.execute_input": "2024-09-10T12:09:22.192422Z",
     "iopub.status.busy": "2024-09-10T12:09:22.191949Z",
     "iopub.status.idle": "2024-09-10T12:09:23.914296Z",
     "shell.execute_reply": "2024-09-10T12:09:23.912876Z"
    },
    "papermill": {
     "duration": 1.745931,
     "end_time": "2024-09-10T12:09:23.917648",
     "exception": false,
     "start_time": "2024-09-10T12:09:22.171717",
     "status": "completed"
    },
    "tags": []
   },
   "outputs": [],
   "source": [
    "g.ndata['features']['target'] = (g.ndata['features']['target'] - mean)/std"
   ]
  },
  {
   "cell_type": "markdown",
   "id": "7d174ead",
   "metadata": {
    "papermill": {
     "duration": 0.0181,
     "end_time": "2024-09-10T12:09:23.954636",
     "exception": false,
     "start_time": "2024-09-10T12:09:23.936536",
     "status": "completed"
    },
    "tags": []
   },
   "source": [
    "# Build the model\n",
    "\n",
    "The model has 4 components.\n",
    "\n",
    "1. Preprocessing of target node features: this is a shallow feed-forward network. It reduces the dimension of the node features from 390 to `INPUT_DIM`.\n",
    "2. Embedding of the non-target nodes into $\\mathbb{R}^d$ where $d=$`INPUT_DIM`, using `HeteroEmbedding`.\n",
    "3. Convolution layers, using `HeteroGraphConv`.\n",
    "4. Postprocessing of target node features: another shallow feed-forward network."
   ]
  },
  {
   "cell_type": "markdown",
   "id": "14567ee3",
   "metadata": {
    "papermill": {
     "duration": 0.018165,
     "end_time": "2024-09-10T12:09:23.991166",
     "exception": false,
     "start_time": "2024-09-10T12:09:23.973001",
     "status": "completed"
    },
    "tags": []
   },
   "source": [
    "### Hyperparameters"
   ]
  },
  {
   "cell_type": "code",
   "execution_count": 17,
   "id": "525366a5",
   "metadata": {
    "execution": {
     "iopub.execute_input": "2024-09-10T12:09:24.029883Z",
     "iopub.status.busy": "2024-09-10T12:09:24.029410Z",
     "iopub.status.idle": "2024-09-10T12:09:24.037124Z",
     "shell.execute_reply": "2024-09-10T12:09:24.035834Z"
    },
    "papermill": {
     "duration": 0.030297,
     "end_time": "2024-09-10T12:09:24.039831",
     "exception": false,
     "start_time": "2024-09-10T12:09:24.009534",
     "status": "completed"
    },
    "tags": []
   },
   "outputs": [],
   "source": [
    "# Conv layers\n",
    "INPUT_DIM = 8\n",
    "HIDDEN_DIM = 8\n",
    "TARGET_OUT_DIM = 8\n",
    "CONV_LAYERS = 2 # should be at least 2; only have 3 'distinct' layers, weights for the middle ones are shared with all layers except first and last.\n",
    "# pre/post processing of target\n",
    "TARGET_PREPROCESSING_HIDDEN_DIM = 32\n",
    "TARGET_PREPROCESSING_NO_LAYERS = 3\n",
    "TARGET_POSTPROCESSING_HIDDEN_DIM = 8\n",
    "TARGET_POSTPROCESSING_NO_LAYERS = 2\n",
    "# training\n",
    "LEARNING_RATE = 0.001\n",
    "LOSS_MULTIPLIER = 15\n",
    "NUM_EPOCHS = 120"
   ]
  },
  {
   "cell_type": "code",
   "execution_count": 18,
   "id": "852c5225",
   "metadata": {
    "execution": {
     "iopub.execute_input": "2024-09-10T12:09:24.079215Z",
     "iopub.status.busy": "2024-09-10T12:09:24.078706Z",
     "iopub.status.idle": "2024-09-10T12:09:24.113000Z",
     "shell.execute_reply": "2024-09-10T12:09:24.111669Z"
    },
    "papermill": {
     "duration": 0.057893,
     "end_time": "2024-09-10T12:09:24.116109",
     "exception": false,
     "start_time": "2024-09-10T12:09:24.058216",
     "status": "completed"
    },
    "tags": []
   },
   "outputs": [],
   "source": [
    "from dgl.nn.pytorch import HeteroGraphConv, HeteroEmbedding, GraphConv\n",
    "from torch.nn import Linear\n",
    "\n",
    "# get dimension of target features\n",
    "target_feature_dim = g.ndata['features']['target'].shape[1]\n",
    "\n",
    "# create linear embeddings for the non-target nodes into R^IN_DIM space\n",
    "num_embeddings_dict = { src : g.num_nodes(src) for (src,etype,dst) in g.canonical_etypes if (dst == 'target' and src != 'target')}\n",
    "\n",
    "# define a NN for pre/postprocessing the target data\n",
    "class ff_block(nn.Module):\n",
    "    def __init__(self, in_dim, hidden_dim, out_dim, n_layers):\n",
    "        super().__init__()\n",
    "        self.input_layer = Linear(in_dim, hidden_dim)\n",
    "        self.hidden_layer = Linear(hidden_dim, hidden_dim)\n",
    "        self.output_layer = Linear(hidden_dim, out_dim)\n",
    "        self.n_layers = n_layers\n",
    "        \n",
    "    def forward(self, in_feats):\n",
    "        h = self.input_layer(in_feats)\n",
    "        h = nn.ReLU()(h)\n",
    "        for i in range(1, self.n_layers):\n",
    "            h = self.hidden_layer(h)\n",
    "            h = nn.ReLU()(h)\n",
    "        h = self.output_layer(h)        \n",
    "        return h\n",
    "            \n",
    "\n",
    "# define the model class\n",
    "class RGCN(nn.Module):\n",
    "    def __init__(self, target_feature_dim, in_dim, hidden_dim, conv_out_dim, num_conv_layers, num_embeddings, target_pre_h_dim, target_pre_layers, target_post_h_dim, target_post_layers):\n",
    "        super().__init__()\n",
    "        # create dictionaries for HeteroGraphConv\n",
    "        entry_module_dict = { etype : GraphConv(in_feats=in_dim, out_feats=hidden_dim) for etype in g.etypes}\n",
    "\n",
    "        hidden_model_dict = { etype : GraphConv(in_feats=hidden_dim, out_feats=hidden_dim) for etype in g.etypes}\n",
    "\n",
    "        final_model_dict1 = { etype : GraphConv(in_feats=hidden_dim, out_feats=conv_out_dim) for src,etype,dst in g.canonical_etypes if dst == 'target'}\n",
    "        final_model_dict2 = { etype : GraphConv(in_feats=hidden_dim, out_feats=1) for src,etype,dst in g.canonical_etypes if dst != 'target'}\n",
    "        final_model_dict = {**final_model_dict1, **final_model_dict2}\n",
    "        \n",
    "        self.num_conv_layers = num_conv_layers\n",
    "        \n",
    "        self.embed_layer = HeteroEmbedding(\n",
    "            num_embeddings,\n",
    "            in_dim\n",
    "        )\n",
    "        self.target_preprocessing = ff_block(\n",
    "            target_feature_dim, \n",
    "            target_pre_h_dim, \n",
    "            in_dim, \n",
    "            target_pre_layers)\n",
    "        self.conv1 = HeteroGraphConv(\n",
    "            entry_module_dict,\n",
    "            aggregate = 'sum'\n",
    "        )\n",
    "        self.conv2 = HeteroGraphConv(\n",
    "                hidden_model_dict,\n",
    "                aggregate = 'sum'\n",
    "        )\n",
    "\n",
    "        self.conv3 = HeteroGraphConv(\n",
    "            final_model_dict,\n",
    "            aggregate = 'sum'\n",
    "        )\n",
    "        self.target_postprocessing = ff_block(\n",
    "            conv_out_dim, \n",
    "            target_post_h_dim, \n",
    "            1, \n",
    "            target_post_layers\n",
    "        )\n",
    "        \n",
    "    def forward(self, graph, input_features):\n",
    "        embeds = self.embed_layer({ ntype : graph.nodes(ntype) for ntype in node_types })\n",
    "        input_features = input_features.to(dtype=torch.float32)\n",
    "        target_features = self.target_preprocessing(input_features)\n",
    "        embeds['target'] = target_features\n",
    "        h = self.conv1(graph, embeds)\n",
    "        h = {k: F.relu(v) for k, v in h.items()}\n",
    "        for i in range(2, self.num_conv_layers):\n",
    "            h = self.conv2(graph, h)\n",
    "            h = {k: F.relu(v) for k, v in h.items()}\n",
    "        h = self.conv3(graph, h)\n",
    "        h['target'] = self.target_postprocessing(h['target'])\n",
    "        \n",
    "        return h"
   ]
  },
  {
   "cell_type": "code",
   "execution_count": 19,
   "id": "c78c424d",
   "metadata": {
    "execution": {
     "iopub.execute_input": "2024-09-10T12:09:24.155495Z",
     "iopub.status.busy": "2024-09-10T12:09:24.154390Z",
     "iopub.status.idle": "2024-09-10T12:09:24.226439Z",
     "shell.execute_reply": "2024-09-10T12:09:24.224977Z"
    },
    "papermill": {
     "duration": 0.095164,
     "end_time": "2024-09-10T12:09:24.229759",
     "exception": false,
     "start_time": "2024-09-10T12:09:24.134595",
     "status": "completed"
    },
    "tags": []
   },
   "outputs": [
    {
     "name": "stdout",
     "output_type": "stream",
     "text": [
      "Number of parameters in the model: \n",
      "                                  1119460\n"
     ]
    }
   ],
   "source": [
    "# create the model\n",
    "model = RGCN(\n",
    "    target_feature_dim = target_feature_dim,\n",
    "    in_dim = INPUT_DIM, \n",
    "    hidden_dim = HIDDEN_DIM, \n",
    "    conv_out_dim = TARGET_OUT_DIM,\n",
    "    num_conv_layers = CONV_LAYERS,\n",
    "    num_embeddings = num_embeddings_dict, \n",
    "    target_pre_h_dim = TARGET_PREPROCESSING_HIDDEN_DIM, \n",
    "    target_pre_layers = TARGET_PREPROCESSING_NO_LAYERS,\n",
    "    target_post_h_dim = TARGET_POSTPROCESSING_HIDDEN_DIM,\n",
    "    target_post_layers = TARGET_POSTPROCESSING_NO_LAYERS\n",
    ")\n",
    "print('Number of parameters in the model: ')\n",
    "print(' '*33,sum(param.numel() for param in model.parameters()))"
   ]
  },
  {
   "cell_type": "markdown",
   "id": "ffe21008",
   "metadata": {
    "papermill": {
     "duration": 0.0181,
     "end_time": "2024-09-10T12:09:24.266716",
     "exception": false,
     "start_time": "2024-09-10T12:09:24.248616",
     "status": "completed"
    },
    "tags": []
   },
   "source": [
    "### Loss function\n",
    "\n",
    "We use binary cross entropy loss with a weight function, placing more weight on the nodes labelled as fraud."
   ]
  },
  {
   "cell_type": "code",
   "execution_count": 20,
   "id": "3fd48181",
   "metadata": {
    "execution": {
     "iopub.execute_input": "2024-09-10T12:09:24.306858Z",
     "iopub.status.busy": "2024-09-10T12:09:24.305987Z",
     "iopub.status.idle": "2024-09-10T12:09:24.600159Z",
     "shell.execute_reply": "2024-09-10T12:09:24.598821Z"
    },
    "papermill": {
     "duration": 0.317435,
     "end_time": "2024-09-10T12:09:24.603438",
     "exception": false,
     "start_time": "2024-09-10T12:09:24.286003",
     "status": "completed"
    },
    "tags": []
   },
   "outputs": [],
   "source": [
    "# prepare weight vector for loss fn\n",
    "weight_vector = (torch.ones(labels[train_mask].shape)+labels[train_mask]*LOSS_MULTIPLIER).reshape((labels[train_mask].shape[0],1))\n",
    "val_weight_vector = (torch.ones(labels[val_mask].shape)+labels[val_mask]*LOSS_MULTIPLIER).reshape((labels[val_mask].shape[0],1))\n",
    "\n",
    "# Set optimizer and loss function\n",
    "optimizer = torch.optim.Adam(model.parameters(), lr=LEARNING_RATE)\n",
    "loss_fn = torch.nn.BCELoss(weight_vector)\n",
    "val_loss_fn = torch.nn.BCELoss(val_weight_vector)"
   ]
  },
  {
   "cell_type": "code",
   "execution_count": 21,
   "id": "1b553022",
   "metadata": {
    "execution": {
     "iopub.execute_input": "2024-09-10T12:09:24.643105Z",
     "iopub.status.busy": "2024-09-10T12:09:24.642687Z",
     "iopub.status.idle": "2024-09-10T12:09:24.661933Z",
     "shell.execute_reply": "2024-09-10T12:09:24.660855Z"
    },
    "papermill": {
     "duration": 0.042075,
     "end_time": "2024-09-10T12:09:24.664913",
     "exception": false,
     "start_time": "2024-09-10T12:09:24.622838",
     "status": "completed"
    },
    "tags": []
   },
   "outputs": [],
   "source": [
    "def train_one_epoch(epoch_no, model, g, features, labels, train_mask, val_mask, threshold, return_probs=False):\n",
    "    t0 = time()\n",
    "    # Forward pass\n",
    "    logits_dict = model(g, features)\n",
    "    logits = logits_dict['target']\n",
    "    del logits_dict\n",
    "    probs = torch.sigmoid(logits)\n",
    "    preds = (probs > threshold).float()\n",
    "       \n",
    "    labels = labels.reshape_as(preds)\n",
    "    \n",
    "    # compute training and validation loss\n",
    "    loss = loss_fn(probs[train_mask], labels[train_mask])\n",
    "    with torch.no_grad():\n",
    "        val_loss = val_loss_fn(probs[val_mask], labels[val_mask])\n",
    "    \n",
    "    # compute accuracies\n",
    "    train_acc = (preds[train_mask] == labels[train_mask]).float().mean()\n",
    "    val_acc = (preds[val_mask] == labels[val_mask]).float().mean()\n",
    "    \n",
    "    # backprop\n",
    "    optimizer.zero_grad()\n",
    "    loss.backward()\n",
    "    optimizer.step()\n",
    "    \n",
    "    if return_probs:\n",
    "        return loss, val_loss, train_acc, val_acc, time()-t0, probs, preds\n",
    "    else:\n",
    "        return loss, val_loss, train_acc, val_acc, time()-t0"
   ]
  },
  {
   "cell_type": "code",
   "execution_count": 22,
   "id": "d364d723",
   "metadata": {
    "execution": {
     "iopub.execute_input": "2024-09-10T12:09:24.704709Z",
     "iopub.status.busy": "2024-09-10T12:09:24.704177Z",
     "iopub.status.idle": "2024-09-10T12:09:24.712732Z",
     "shell.execute_reply": "2024-09-10T12:09:24.711355Z"
    },
    "papermill": {
     "duration": 0.031542,
     "end_time": "2024-09-10T12:09:24.715499",
     "exception": false,
     "start_time": "2024-09-10T12:09:24.683957",
     "status": "completed"
    },
    "tags": []
   },
   "outputs": [],
   "source": [
    "# function for visualizing loss history\n",
    "def loss_history_plot(loss_history, val_loss_history=None, small=False):\n",
    "    if small:\n",
    "        size = (5,2)\n",
    "    else:\n",
    "        size = (7,4)\n",
    "    fig, ax =plt.subplots(1,1,figsize=size)\n",
    "    ax.plot(loss_history, label='Train')\n",
    "    if val_loss_history:\n",
    "        ax.plot(val_loss_history, label='Val')\n",
    "        ax.legend()\n",
    "    plt.show()"
   ]
  },
  {
   "cell_type": "code",
   "execution_count": 23,
   "id": "0a089128",
   "metadata": {
    "execution": {
     "iopub.execute_input": "2024-09-10T12:09:24.755023Z",
     "iopub.status.busy": "2024-09-10T12:09:24.754107Z",
     "iopub.status.idle": "2024-09-10T12:09:24.771390Z",
     "shell.execute_reply": "2024-09-10T12:09:24.769843Z"
    },
    "papermill": {
     "duration": 0.040292,
     "end_time": "2024-09-10T12:09:24.774272",
     "exception": false,
     "start_time": "2024-09-10T12:09:24.733980",
     "status": "completed"
    },
    "tags": []
   },
   "outputs": [],
   "source": [
    "def train(model, g, num_epochs, labels, train_mask, val_mask, threshold):\n",
    "    best_val_acc = 0\n",
    "    epoch_times = []\n",
    "    history = {}\n",
    "    history['loss'] = []\n",
    "    history['val_loss'] = []\n",
    "    history['val_acc'] = []\n",
    "    \n",
    "    features = g.nodes['target'].data['features']\n",
    "    \n",
    "    for epoch in range(num_epochs):\n",
    "        \n",
    "        if epoch < num_epochs-1:\n",
    "            loss, val_loss, train_acc, val_acc, epoch_time = train_one_epoch(epoch, model, g, features, labels, train_mask, val_mask, threshold)\n",
    "        else:\n",
    "            loss, val_loss, train_acc, val_acc, epoch_time, final_probs, final_preds = train_one_epoch(epoch, model, g, features, labels, train_mask, val_mask, threshold, return_probs=True)\n",
    "            \n",
    "        history['val_loss'].append(val_loss)\n",
    "        history['val_acc'].append(val_acc)\n",
    "        history['loss'].append(loss.detach().numpy())\n",
    "        epoch_times.append(epoch_time)\n",
    "        \n",
    "        if best_val_acc < val_acc:\n",
    "            best_val_acc = val_acc\n",
    "            \n",
    "        if epoch % 10 == 10-1:\n",
    "            loss_rate_of_change = (history['loss'][-1]-history['loss'][-5])/5\n",
    "            print(f\"Epoch {epoch+1} loss: {loss:.3f}, (rate of change: {loss_rate_of_change:.4f}), val accuracy: {val_acc:.3f} (best: {best_val_acc:.3f})\\n\\\n",
    "            -- Average time per epoch: {np.mean(epoch_times):.1f}sec (last 5: {np.mean(epoch_times[-5:]):.1f}sec).\\\n",
    "            Estimated time to end: {(num_epochs-epoch-1)*np.mean(epoch_times[-5:])/60:.0f} mins\")\n",
    "            \n",
    "        if epoch % 25 == 25-1:\n",
    "            loss_history_plot(history['loss'][-25:], history['val_loss'][-25:], small=True)\n",
    "            loss_history_plot(history['val_acc'][-25:], small=True)\n",
    "            \n",
    "    print('-'*60)\n",
    "    print(f\"Training complete. \\\n",
    "    Final loss: {loss:.3f}, \\\n",
    "    final val accuracy: {val_acc:.3f}, (best: {best_val_acc:.3f}).\")\n",
    "    \n",
    "    return final_probs, final_preds, history"
   ]
  },
  {
   "cell_type": "code",
   "execution_count": 24,
   "id": "6708d52a",
   "metadata": {
    "execution": {
     "iopub.execute_input": "2024-09-10T12:09:24.813320Z",
     "iopub.status.busy": "2024-09-10T12:09:24.812866Z",
     "iopub.status.idle": "2024-09-10T12:22:29.225045Z",
     "shell.execute_reply": "2024-09-10T12:22:29.223321Z"
    },
    "papermill": {
     "duration": 784.456866,
     "end_time": "2024-09-10T12:22:29.249819",
     "exception": false,
     "start_time": "2024-09-10T12:09:24.792953",
     "status": "completed"
    },
    "tags": []
   },
   "outputs": [
    {
     "name": "stdout",
     "output_type": "stream",
     "text": [
      "Epoch 10 loss: 0.963, (rate of change: -0.0193), val accuracy: 0.906 (best: 0.919)\n",
      "            -- Average time per epoch: 7.5sec (last 5: 6.4sec).            Estimated time to end: 12 mins\n",
      "Epoch 20 loss: 0.909, (rate of change: -0.0024), val accuracy: 0.883 (best: 0.919)\n",
      "            -- Average time per epoch: 7.0sec (last 5: 6.6sec).            Estimated time to end: 11 mins\n"
     ]
    },
    {
     "data": {
      "image/png": "[encoded data removed]",
      "text/plain": [
       "<Figure size 500x200 with 1 Axes>"
      ]
     },
     "metadata": {},
     "output_type": "display_data"
    },
    {
     "data": {
      "image/png": "[encoded data removed]",
      "text/plain": [
       "<Figure size 500x200 with 1 Axes>"
      ]
     },
     "metadata": {},
     "output_type": "display_data"
    },
    {
     "name": "stdout",
     "output_type": "stream",
     "text": [
      "Epoch 30 loss: 0.886, (rate of change: -0.0020), val accuracy: 0.876 (best: 0.919)\n",
      "            -- Average time per epoch: 6.8sec (last 5: 6.3sec).            Estimated time to end: 9 mins\n",
      "Epoch 40 loss: 0.867, (rate of change: -0.0014), val accuracy: 0.880 (best: 0.919)\n",
      "            -- Average time per epoch: 6.7sec (last 5: 6.4sec).            Estimated time to end: 9 mins\n",
      "Epoch 50 loss: 0.851, (rate of change: -0.0013), val accuracy: 0.875 (best: 0.919)\n",
      "            -- Average time per epoch: 6.6sec (last 5: 6.4sec).            Estimated time to end: 7 mins\n"
     ]
    },
    {
     "data": {
      "image/png": "[encoded data removed]",
      "text/plain": [
       "<Figure size 500x200 with 1 Axes>"
      ]
     },
     "metadata": {},
     "output_type": "display_data"
    },
    {
     "data": {
      "image/png": "[encoded data removed]",
      "text/plain": [
       "<Figure size 500x200 with 1 Axes>"
      ]
     },
     "metadata": {},
     "output_type": "display_data"
    },
    {
     "name": "stdout",
     "output_type": "stream",
     "text": [
      "Epoch 60 loss: 0.837, (rate of change: -0.0010), val accuracy: 0.865 (best: 0.919)\n",
      "            -- Average time per epoch: 6.6sec (last 5: 6.4sec).            Estimated time to end: 6 mins\n",
      "Epoch 70 loss: 0.822, (rate of change: -0.0012), val accuracy: 0.867 (best: 0.919)\n",
      "            -- Average time per epoch: 6.6sec (last 5: 6.4sec).            Estimated time to end: 5 mins\n"
     ]
    },
    {
     "data": {
      "image/png": "[encoded data removed]",
      "text/plain": [
       "<Figure size 500x200 with 1 Axes>"
      ]
     },
     "metadata": {},
     "output_type": "display_data"
    },
    {
     "data": {
      "image/png": "[encoded data removed]",
      "text/plain": [
       "<Figure size 500x200 with 1 Axes>"
      ]
     },
     "metadata": {},
     "output_type": "display_data"
    },
    {
     "name": "stdout",
     "output_type": "stream",
     "text": [
      "Epoch 80 loss: 0.806, (rate of change: -0.0013), val accuracy: 0.875 (best: 0.919)\n",
      "            -- Average time per epoch: 6.5sec (last 5: 6.5sec).            Estimated time to end: 4 mins\n",
      "Epoch 90 loss: 0.789, (rate of change: -0.0014), val accuracy: 0.882 (best: 0.919)\n",
      "            -- Average time per epoch: 6.5sec (last 5: 6.4sec).            Estimated time to end: 3 mins\n",
      "Epoch 100 loss: 0.775, (rate of change: -0.0013), val accuracy: 0.879 (best: 0.919)\n",
      "            -- Average time per epoch: 6.5sec (last 5: 6.5sec).            Estimated time to end: 2 mins\n"
     ]
    },
    {
     "data": {
      "image/png": "[encoded data removed]",
      "text/plain": [
       "<Figure size 500x200 with 1 Axes>"
      ]
     },
     "metadata": {},
     "output_type": "display_data"
    },
    {
     "data": {
      "image/png": "[encoded data removed]",
      "text/plain": [
       "<Figure size 500x200 with 1 Axes>"
      ]
     },
     "metadata": {},
     "output_type": "display_data"
    },
    {
     "name": "stdout",
     "output_type": "stream",
     "text": [
      "Epoch 110 loss: 0.760, (rate of change: -0.0017), val accuracy: 0.894 (best: 0.919)\n",
      "            -- Average time per epoch: 6.5sec (last 5: 6.4sec).            Estimated time to end: 1 mins\n",
      "Epoch 120 loss: 0.748, (rate of change: -0.0014), val accuracy: 0.894 (best: 0.919)\n",
      "            -- Average time per epoch: 6.5sec (last 5: 6.7sec).            Estimated time to end: 0 mins\n",
      "------------------------------------------------------------\n",
      "Training complete.     Final loss: 0.748,     final val accuracy: 0.894, (best: 0.919).\n"
     ]
    }
   ],
   "source": [
    "QUICK_TEST = False\n",
    "\n",
    "if QUICK_TEST:\n",
    "    n_ep = 2\n",
    "else:\n",
    "    n_ep = NUM_EPOCHS\n",
    "\n",
    "probs, preds, history = train(model, g, n_ep, labels, train_mask, val_mask, 0.5)"
   ]
  },
  {
   "cell_type": "code",
   "execution_count": 25,
   "id": "77ad8af9",
   "metadata": {
    "execution": {
     "iopub.execute_input": "2024-09-10T12:22:29.299394Z",
     "iopub.status.busy": "2024-09-10T12:22:29.298906Z",
     "iopub.status.idle": "2024-09-10T12:22:29.600738Z",
     "shell.execute_reply": "2024-09-10T12:22:29.598181Z"
    },
    "papermill": {
     "duration": 0.330072,
     "end_time": "2024-09-10T12:22:29.603855",
     "exception": false,
     "start_time": "2024-09-10T12:22:29.273783",
     "status": "completed"
    },
    "tags": []
   },
   "outputs": [
    {
     "name": "stdout",
     "output_type": "stream",
     "text": [
      "Training set: mean of probabilities, predictions, and true labels:\n",
      "tensor(0.2760, grad_fn=<MeanBackward0>)\n",
      "tensor(0.0977)\n",
      "tensor(0.0351)\n",
      "\n",
      "Validation set:\n",
      "tensor(0.2798, grad_fn=<MeanBackward0>)\n",
      "tensor(0.1036)\n",
      "tensor(0.0345)\n"
     ]
    }
   ],
   "source": [
    "print('Training set: mean of probabilities, predictions, and true labels:')\n",
    "print(probs[train_mask].mean())\n",
    "print(preds[train_mask].mean())\n",
    "print(labels[train_mask].mean())\n",
    "\n",
    "print('\\nValidation set:')\n",
    "print(probs[val_mask].mean())\n",
    "print(preds[val_mask].mean())\n",
    "print(labels[val_mask].mean())"
   ]
  },
  {
   "cell_type": "code",
   "execution_count": 26,
   "id": "c0a97171",
   "metadata": {
    "execution": {
     "iopub.execute_input": "2024-09-10T12:22:29.653543Z",
     "iopub.status.busy": "2024-09-10T12:22:29.652226Z",
     "iopub.status.idle": "2024-09-10T12:22:29.960542Z",
     "shell.execute_reply": "2024-09-10T12:22:29.958877Z"
    },
    "papermill": {
     "duration": 0.336606,
     "end_time": "2024-09-10T12:22:29.963847",
     "exception": false,
     "start_time": "2024-09-10T12:22:29.627241",
     "status": "completed"
    },
    "tags": []
   },
   "outputs": [
    {
     "name": "stdout",
     "output_type": "stream",
     "text": [
      "Evaluation of validation set results:\n",
      " --------------------------------------------------\n",
      "Proportion of transactions predicted as fraud: 10.36 %.\n",
      "[[129611   2733]\n",
      " [ 12924   2367]]\n",
      "False positive rate: 84.5 %.\n",
      "False negative rate: 2.07 %.\n",
      "True negative rate: 15.48 % (specificity).\n",
      "True positive rate: 97.93 % (sensitivity).\n"
     ]
    }
   ],
   "source": [
    "print('Evaluation of validation set results:\\n','-'*50)\n",
    "\n",
    "print(f\"Proportion of transactions predicted as fraud: {torch.mean(preds[val_mask])*100:.2f} %.\")\n",
    "cm = confusion_matrix(preds[val_mask], labels[val_mask])\n",
    "print(cm)\n",
    "fp_rate = cm[1,0]/(cm[1,0]+cm[1,1])\n",
    "print(f\"False positive rate: {fp_rate*100:.1f} %.\")\n",
    "fn_rate = cm[0,1]/(cm[0,1]+cm[0,0])\n",
    "print(f\"False negative rate: {fn_rate*100:.2f} %.\")\n",
    "tn_rate = 1-fp_rate\n",
    "print(f\"True negative rate: {tn_rate*100:.2f} % (specificity).\")\n",
    "tp_rate = 1- fn_rate\n",
    "print(f\"True positive rate: {tp_rate*100:.2f} % (sensitivity).\")"
   ]
  },
  {
   "cell_type": "code",
   "execution_count": 27,
   "id": "b3b57ebe",
   "metadata": {
    "execution": {
     "iopub.execute_input": "2024-09-10T12:22:30.014425Z",
     "iopub.status.busy": "2024-09-10T12:22:30.012925Z",
     "iopub.status.idle": "2024-09-10T12:22:30.488608Z",
     "shell.execute_reply": "2024-09-10T12:22:30.486977Z"
    },
    "papermill": {
     "duration": 0.504086,
     "end_time": "2024-09-10T12:22:30.491609",
     "exception": false,
     "start_time": "2024-09-10T12:22:29.987523",
     "status": "completed"
    },
    "tags": []
   },
   "outputs": [
    {
     "data": {
      "image/png": "[encoded data removed]",
      "text/plain": [
       "<Figure size 700x400 with 1 Axes>"
      ]
     },
     "metadata": {},
     "output_type": "display_data"
    },
    {
     "data": {
      "image/png": "[encoded data removed]",
      "text/plain": [
       "<Figure size 700x400 with 1 Axes>"
      ]
     },
     "metadata": {},
     "output_type": "display_data"
    }
   ],
   "source": [
    "loss_history_plot(history['loss'], history['val_loss'])\n",
    "loss_history_plot(history['val_acc'])"
   ]
  },
  {
   "cell_type": "code",
   "execution_count": null,
   "id": "d31ed3f5",
   "metadata": {
    "papermill": {
     "duration": 0.024842,
     "end_time": "2024-09-10T12:22:30.541856",
     "exception": false,
     "start_time": "2024-09-10T12:22:30.517014",
     "status": "completed"
    },
    "tags": []
   },
   "outputs": [],
   "source": []
  }
 ],
 "metadata": {
  "kaggle": {
   "accelerator": "none",
   "dataSources": [
    {
     "databundleVersionId": 568274,
     "sourceId": 14242,
     "sourceType": "competition"
    }
   ],
   "dockerImageVersionId": 30458,
   "isGpuEnabled": false,
   "isInternetEnabled": true,
   "language": "python",
   "sourceType": "notebook"
  },
  "kernelspec": {
   "display_name": "Python 3",
   "language": "python",
   "name": "python3"
  },
  "language_info": {
   "codemirror_mode": {
    "name": "ipython",
    "version": 3
   },
   "file_extension": ".py",
   "mimetype": "text/x-python",
   "name": "python",
   "nbconvert_exporter": "python",
   "pygments_lexer": "ipython3",
   "version": "3.7.12"
  },
  "papermill": {
   "default_parameters": {},
   "duration": 910.21231,
   "end_time": "2024-09-10T12:22:34.050328",
   "environment_variables": {},
   "exception": null,
   "input_path": "__notebook__.ipynb",
   "output_path": "__notebook__.ipynb",
   "parameters": {},
   "start_time": "2024-09-10T12:07:23.838018",
   "version": "2.4.0"
  }
 },
 "nbformat": 4,
 "nbformat_minor": 5
}
